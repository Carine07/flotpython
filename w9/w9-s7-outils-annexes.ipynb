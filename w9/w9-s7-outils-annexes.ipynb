{
 "cells": [
  {
   "cell_type": "markdown",
   "metadata": {},
   "source": [
    "# Outils annexes"
   ]
  },
  {
   "cell_type": "markdown",
   "metadata": {},
   "source": [
    "Ça pourrait être pas mal de faire une liste même sommaire, et mentionner en vrac, *a minima* :\n",
    "\n",
    "* bibliothèques\n",
    "  * pdb pour le debugging\n",
    "  * nose pour les tests\n",
    "  \n",
    "* outils externes\n",
    "  * pylint\n",
    "  * mypy - type hints\n",
    "  * sphinx"
   ]
  }
 ],
 "metadata": {
  "kernelspec": {
   "display_name": "Python 3",
   "language": "python",
   "name": "python3"
  },
  "language_info": {
   "codemirror_mode": {
    "name": "ipython",
    "version": 3
   },
   "file_extension": ".py",
   "mimetype": "text/x-python",
   "name": "python",
   "nbconvert_exporter": "python",
   "pygments_lexer": "ipython3",
   "version": "3.6.4"
  }
 },
 "nbformat": 4,
 "nbformat_minor": 2
}
